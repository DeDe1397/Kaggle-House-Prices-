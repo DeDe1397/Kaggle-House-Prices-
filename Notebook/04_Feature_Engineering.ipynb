{
 "cells": [
  {
   "cell_type": "code",
   "execution_count": 2,
   "id": "1de6ab68-cf97-46b0-86eb-4f70e0d42e1b",
   "metadata": {},
   "outputs": [],
   "source": [
    "# ドキュメント処理\n",
    "def create_features(df):\n",
    "    # 面積系の特徴量の合計\n",
    "    df['TotalSF'] = df['GrLivArea'] + df['TotalBsmtSF']\n",
    "    df['TotalHouseArea'] = df['1stFlrSF'] + df['2ndFlrSF'] + df['GrLivArea'] + df['TotalBsmtSF']\n",
    "\n",
    "    # 評価と面積の積\n",
    "    df['OverallQual_x_GrLivArea'] = df['OverallQual'] * df['GrLivArea']\n",
    "    df['OverallQual_x_TotalBsmtSF'] = df['OverallQual'] * df['TotalBsmtSF']\n",
    "    df['OverallQual_x_TotalSF'] = df['OverallQual'] * df['TotalSF']\n",
    "\n",
    "    # 築年数と評価の積\n",
    "    df['OverallQual_x_YearBuilt'] = df['OverallQual'] * df['YearBuilt']\n",
    "    df['OverallQual_x_YearRemodAdd'] = df['OverallQual'] * df['YearRemodAdd']\n",
    "\n",
    "    return df\n",
    "\n",
    "# 欠損値補完・論理補完\n",
    "def fill_missing_values(df):\n",
    "    garage_cols = ['GarageType', 'GarageFinish', 'GarageQual', 'GarageCond']\n",
    "    for col in garage_cols:\n",
    "        df[col] = df[col].fillna('None')\n",
    "    \n",
    "    garage_num_cols = ['GarageYrBlt', 'GarageArea', 'GarageCars']\n",
    "    for col in garage_num_cols:\n",
    "        df[col] = df[col].fillna(0)\n",
    "    \n",
    "    bsmt_cols = ['BsmtQual', 'BsmtCond', 'BsmtExposure', 'BsmtFinType1', 'BsmtFinType2']\n",
    "    for col in bsmt_cols:\n",
    "        df[col] = df[col].fillna('None')\n",
    "\n",
    "    bsmt_num_cols = ['BsmtFinSF1', 'BsmtFinSF2', 'BsmtUnfSF', 'TotalBsmtSF', 'BsmtFullBath', 'BsmtHalfBath']\n",
    "    for col in bsmt_num_cols:\n",
    "        df[col] = df[col].fillna(0)\n",
    "\n",
    "    df['MasVnrType'] = df['MasVnrType'].fillna('None')\n",
    "    df['MasVnrArea'] = df['MasVnrArea'].fillna(0)\n",
    "    df['MSZoning'] = df['MSZoning'].fillna(df['MSZoning'].mode()[0])\n",
    "    df['Functional'] = df['Functional'].fillna(df['Functional'].mode()[0])\n",
    "    df['KitchenQual'] = df['KitchenQual'].fillna(df['KitchenQual'].mode()[0])\n",
    "    df['Exterior1st'] = df['Exterior1st'].fillna(df['Exterior1st'].mode()[0])\n",
    "    df['Exterior2nd'] = df['Exterior2nd'].fillna(df['Exterior2nd'].mode()[0])\n",
    "    df['SaleType'] = df['SaleType'].fillna(df['SaleType'].mode()[0])\n",
    "    df['Utilities'] = df['Utilities'].fillna(df['Utilities'].mode()[0])\n",
    "\n",
    "    df['LotFrontage'] = df.groupby('Neighborhood')['LotFrontage'].transform(lambda x: x.fillna(x.median()))\n",
    "    \n",
    "    for col in df.select_dtypes(include=np.number).columns:\n",
    "        if df[col].isnull().any():\n",
    "            df[col] = df[col].fillna(df[col].median())\n",
    "\n",
    "    return df\n"
   ]
  }
 ],
 "metadata": {
  "kernelspec": {
   "display_name": "Python [conda env:base] *",
   "language": "python",
   "name": "conda-base-py"
  },
  "language_info": {
   "codemirror_mode": {
    "name": "ipython",
    "version": 3
   },
   "file_extension": ".py",
   "mimetype": "text/x-python",
   "name": "python",
   "nbconvert_exporter": "python",
   "pygments_lexer": "ipython3",
   "version": "3.12.7"
  }
 },
 "nbformat": 4,
 "nbformat_minor": 5
}
