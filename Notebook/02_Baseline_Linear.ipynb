{
 "cells": [
  {
   "cell_type": "code",
   "execution_count": 2,
   "id": "98514797-4877-4b14-8f5b-c1c344140dc3",
   "metadata": {},
   "outputs": [
    {
     "name": "stdout",
     "output_type": "stream",
     "text": [
      "ベースライン（平均予測）のRMSLE: 0.4075975552878524\n",
      "Fold 1 RMSLE: 0.2311\n",
      "Fold 2 RMSLE: 0.2272\n",
      "Fold 3 RMSLE: 0.2351\n",
      "Fold 4 RMSLE: 0.2406\n",
      "Fold 5 RMSLE: 0.2202\n",
      "\n",
      "Average CV Linear_RMSLE: 0.2308\n",
      "ベースライン（面積のみLinear）のRMSLE: 0.23083110949997612\n"
     ]
    }
   ],
   "source": [
    "import pandas as pd\n",
    "import numpy as np\n",
    "from sklearn.model_selection import KFold\n",
    "from sklearn.model_selection import train_test_split\n",
    "from sklearn.metrics import mean_squared_log_error\n",
    "from sklearn.linear_model import LinearRegression\n",
    "\n",
    "# データ読み込み\n",
    "train = pd.read_csv(\"train.csv\")\n",
    "test = pd.read_csv(\"test.csv\")\n",
    "\n",
    "# ベースライン（平均予測）\n",
    "y = train[\"SalePrice\"]\n",
    "y_pred = np.full_like(y, y.mean())\n",
    "rmsle = np.sqrt(mean_squared_log_error(y, y_pred))\n",
    "print(\"ベースライン（平均予測）のRMSLE:\", rmsle)\n",
    "\n",
    "# ベースライン（線形回帰）\n",
    "X = train[[\"OverallQual\"]]  # OverallQualのみを説明変数に\n",
    "\n",
    "# RMSLE (Root Mean Squared Logarithmic Error) を計算する関数\n",
    "def rmsle(y_true, y_pred):\n",
    "    y_pred = np.maximum(y_pred, 0)\n",
    "    return np.sqrt(mean_squared_log_error(y_true, y_pred))\n",
    "\n",
    "# 評価関数（線形回帰）\n",
    "def run_linear_cv(X, y, n_splits=5, random_state=42):\n",
    "    folds = KFold(n_splits=n_splits, shuffle=True, random_state=random_state)\n",
    "    oof_preds = np.zeros(len(X))\n",
    "    cv_scores = []\n",
    "\n",
    "    for fold, (train_idx, val_idx) in enumerate(folds.split(X, y)):\n",
    "        X_train, X_val = X.iloc[train_idx], X.iloc[val_idx]\n",
    "        y_train, y_val = y.iloc[train_idx], y.iloc[val_idx]\n",
    "\n",
    "        y_train_log = np.log1p(y_train)\n",
    "        y_val_log = np.log1p(y_val)\n",
    "\n",
    "        linearmodel = LinearRegression()\n",
    "        linearmodel.fit(X_train, y_train_log)\n",
    "\n",
    "        val_preds_log = linearmodel.predict(X_val)\n",
    "        val_preds = np.expm1(val_preds_log)       \n",
    "        oof_preds[val_idx] = val_preds      \n",
    "        score = rmsle(y_val, val_preds)\n",
    "        cv_scores.append(score)\n",
    "        print(f\"Fold {fold+1} RMSLE: {score:.4f}\")\n",
    "\n",
    "    cv_rmsle = np.mean(cv_scores)\n",
    "    print(f\"\\nAverage CV Linear_RMSLE: {cv_rmsle:.4f}\")\n",
    "    return cv_rmsle, oof_preds\n",
    "\n",
    "# 学習・評価\n",
    "cv_rmsle, oof_preds = run_linear_cv(X, y, n_splits=5)\n",
    "print(\"ベースライン（面積のみLinear）のRMSLE:\", cv_rmsle)\n"
   ]
  }
 ],
 "metadata": {
  "kernelspec": {
   "display_name": "Python [conda env:base] *",
   "language": "python",
   "name": "conda-base-py"
  },
  "language_info": {
   "codemirror_mode": {
    "name": "ipython",
    "version": 3
   },
   "file_extension": ".py",
   "mimetype": "text/x-python",
   "name": "python",
   "nbconvert_exporter": "python",
   "pygments_lexer": "ipython3",
   "version": "3.12.7"
  }
 },
 "nbformat": 4,
 "nbformat_minor": 5
}
